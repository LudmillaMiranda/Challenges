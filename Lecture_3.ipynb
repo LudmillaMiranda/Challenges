{
  "nbformat": 4,
  "nbformat_minor": 0,
  "metadata": {
    "kernelspec": {
      "display_name": "Python 3",
      "language": "python",
      "name": "python3"
    },
    "language_info": {
      "codemirror_mode": {
        "name": "ipython",
        "version": 3
      },
      "file_extension": ".py",
      "mimetype": "text/x-python",
      "name": "python",
      "nbconvert_exporter": "python",
      "pygments_lexer": "ipython3",
      "version": "3.7.4"
    },
    "colab": {
      "name": "Lecture 3.ipynb",
      "provenance": [],
      "include_colab_link": true
    }
  },
  "cells": [
    {
      "cell_type": "markdown",
      "metadata": {
        "id": "view-in-github",
        "colab_type": "text"
      },
      "source": [
        "<a href=\"https://colab.research.google.com/github/LudmillaMiranda/Challenges/blob/master/Lecture_3.ipynb\" target=\"_parent\"><img src=\"https://colab.research.google.com/assets/colab-badge.svg\" alt=\"Open In Colab\"/></a>"
      ]
    },
    {
      "cell_type": "code",
      "metadata": {
        "id": "byW7SmvAZhHW",
        "colab_type": "code",
        "colab": {},
        "outputId": "fff9c8d5-2ca3-4d29-c612-396d6275d481"
      },
      "source": [
        "# Output functions\n",
        "fname = 'Winston'\n",
        "lname = 'Silva'\n",
        "print('Name: ', fname, lname)\n",
        "\n",
        "# You can use index numbers (a number inside the curly brackets {0}) to be sure the\n",
        "# values are placed in the correct placeholders:\n",
        "\n",
        "fullname = 'My full name is {0}{1}'\n",
        "print(fullname.format(fname, lname))"
      ],
      "execution_count": 0,
      "outputs": [
        {
          "output_type": "stream",
          "text": [
            "Name:  Winston Silva\n",
            "My full name is WinstonSilva\n"
          ],
          "name": "stdout"
        }
      ]
    },
    {
      "cell_type": "code",
      "metadata": {
        "id": "DrRT-dbAZhHb",
        "colab_type": "code",
        "colab": {},
        "outputId": "ca0fc5f8-5f58-45e1-d3fc-21868e4bf608"
      },
      "source": [
        "quantity = 3\n",
        "itemno = 567\n",
        "price = 490\n",
        "myorder = 'I want {0} pieces of {1} for {2:.2f} euro.' \n",
        "print(myorder.format(quantity, itemno, price))"
      ],
      "execution_count": 0,
      "outputs": [
        {
          "output_type": "stream",
          "text": [
            "I want 3 pieces of 567 for 490.00 euro.\n"
          ],
          "name": "stdout"
        }
      ]
    },
    {
      "cell_type": "code",
      "metadata": {
        "id": "CYyc0hUjZhHe",
        "colab_type": "code",
        "colab": {},
        "outputId": "00a48b3d-9d6a-4111-9244-2efeee125c02"
      },
      "source": [
        "# Advanced output allows us to identify the output with a label\n",
        "myorder = \" I have a {carname}, it is a {model}.\"\n",
        "print(myorder.format(carname = \"Ford\", model = \"Mustang\"))"
      ],
      "execution_count": 0,
      "outputs": [
        {
          "output_type": "stream",
          "text": [
            " I have a Ford, it is a Mustang.\n"
          ],
          "name": "stdout"
        }
      ]
    },
    {
      "cell_type": "code",
      "metadata": {
        "id": "Hm5ZD4B8ZhHh",
        "colab_type": "code",
        "colab": {},
        "outputId": "cd43309c-2f6c-4c0e-fb56-874f989af932"
      },
      "source": [
        "# Lambda\n",
        "# A lambda function is a small anonymous function. A lambda function can take\n",
        "# any number of arguments, but can only have one expression\n",
        "x = lambda a, b : a * b\n",
        "print(x(5,6))"
      ],
      "execution_count": 0,
      "outputs": [
        {
          "output_type": "stream",
          "text": [
            "30\n"
          ],
          "name": "stdout"
        }
      ]
    },
    {
      "cell_type": "code",
      "metadata": {
        "id": "lt-uGzUnZhHj",
        "colab_type": "code",
        "colab": {},
        "outputId": "5c462235-a446-4ca6-ab15-605dbeaf429b"
      },
      "source": [
        "# The power of lambda is better shown when you use them as an anonymous function inside\n",
        "# another function.\n",
        "# Say you have a function definition that takes one argument, and that argument will be\n",
        "# multiplied with an unknown number\n",
        "\n",
        "def myfunc(n):\n",
        "    return lambda a: a * n\n",
        "mydoubler = myfunc(2)\n",
        "mytripler = myfunc(3)\n",
        "print(mydoubler(11))"
      ],
      "execution_count": 0,
      "outputs": [
        {
          "output_type": "stream",
          "text": [
            "22\n"
          ],
          "name": "stdout"
        }
      ]
    },
    {
      "cell_type": "code",
      "metadata": {
        "id": "IQb0XHSlZhHm",
        "colab_type": "code",
        "colab": {},
        "outputId": "9d2a6a9d-a778-477a-a7ea-35ea7cb550f6"
      },
      "source": [
        "print(mydoubler(3))"
      ],
      "execution_count": 0,
      "outputs": [
        {
          "output_type": "stream",
          "text": [
            "6\n"
          ],
          "name": "stdout"
        }
      ]
    },
    {
      "cell_type": "code",
      "metadata": {
        "id": "73Xm9_3vZhHp",
        "colab_type": "code",
        "colab": {},
        "outputId": "131e544d-0f31-469b-c646-69f31e314deb"
      },
      "source": [
        "print(mytripler(3))"
      ],
      "execution_count": 0,
      "outputs": [
        {
          "output_type": "stream",
          "text": [
            "9\n"
          ],
          "name": "stdout"
        }
      ]
    },
    {
      "cell_type": "code",
      "metadata": {
        "id": "79NOvrqtZhHr",
        "colab_type": "code",
        "colab": {},
        "outputId": "2f708a50-eaa8-4bc7-90e7-400e487c8fe7"
      },
      "source": [
        "# lambda is an expression, not a statement. Because of this, a lambda\n",
        "# can appear in places a def is not allowed by Python’s syntax—inside a\n",
        "# list literal or a function call’s arguments, for example. With def,\n",
        "# functions can be referenced by name but must be created elsewhere.\n",
        "# lambda’s body is a single expression, not a block of statements. Because it is limited to an expression, a lambda is less general than a\n",
        "# def—you can only squeeze so much logic into a lambda body without\n",
        "# using statements such as if.\n",
        "squares = map(lambda x : x * x, [0, 1, 2, 3, 4])\n",
        "print (list(squares))"
      ],
      "execution_count": 0,
      "outputs": [
        {
          "output_type": "stream",
          "text": [
            "[0, 1, 4, 9, 16]\n"
          ],
          "name": "stdout"
        }
      ]
    },
    {
      "cell_type": "code",
      "metadata": {
        "id": "NUGwLrMuZhHv",
        "colab_type": "code",
        "colab": {},
        "outputId": "e153ba2b-4262-4851-c992-612732022269"
      },
      "source": [
        "# Map takes a function and a collection of items. It makes a new, empty\n",
        "# collection, runs the function on each item in the original collection and\n",
        "# inserts each return value into the new collection. It returns the new\n",
        "# collection.\n",
        "\n",
        "name_lengths = map (len, [\"John\", \"Maria\", \"Rick\"])\n",
        "print (list(name_lengths))"
      ],
      "execution_count": 0,
      "outputs": [
        {
          "output_type": "stream",
          "text": [
            "[4, 5, 4]\n"
          ],
          "name": "stdout"
        }
      ]
    },
    {
      "cell_type": "code",
      "metadata": {
        "id": "EHEkAx64ZhHy",
        "colab_type": "code",
        "colab": {},
        "outputId": "0315cdb7-ce5d-4bb3-d7a9-56fcaad9c393"
      },
      "source": [
        "# Reduce takes a function and a collection of items. It returns a value\n",
        "# that is created by combining the items.\n",
        "sum = reduce(lambda(a, x: a + x, [0, 1, 2, 3, 4])\n",
        "              print(sum)"
      ],
      "execution_count": 0,
      "outputs": [
        {
          "output_type": "error",
          "ename": "SyntaxError",
          "evalue": "invalid syntax (<ipython-input-17-0ad138ffbae9>, line 3)",
          "traceback": [
            "\u001b[1;36m  File \u001b[1;32m\"<ipython-input-17-0ad138ffbae9>\"\u001b[1;36m, line \u001b[1;32m3\u001b[0m\n\u001b[1;33m    sum = reduce (lambda(a, x: a + x, [0, 1, 2, 3, 4])\u001b[0m\n\u001b[1;37m                        ^\u001b[0m\n\u001b[1;31mSyntaxError\u001b[0m\u001b[1;31m:\u001b[0m invalid syntax\n"
          ]
        }
      ]
    },
    {
      "cell_type": "code",
      "metadata": {
        "id": "n2_1lx_DZhH1",
        "colab_type": "code",
        "colab": {},
        "outputId": "f58ccb78-97dd-4705-b372-d7c7b8702c51"
      },
      "source": [
        "# Determining the maximum of a list of numerical values by using reduce:\n",
        "f = lambda a,b: a if (a > b) else b\n",
        "reduce(f, [47,11,42,102,13])\n",
        "print(f)"
      ],
      "execution_count": 0,
      "outputs": [
        {
          "output_type": "error",
          "ename": "NameError",
          "evalue": "name 'reduce' is not defined",
          "traceback": [
            "\u001b[1;31m---------------------------------------------------------------------------\u001b[0m",
            "\u001b[1;31mNameError\u001b[0m                                 Traceback (most recent call last)",
            "\u001b[1;32m<ipython-input-18-3c1c44f3c72e>\u001b[0m in \u001b[0;36m<module>\u001b[1;34m\u001b[0m\n\u001b[0;32m      1\u001b[0m \u001b[1;31m# Determining the maximum of a list of numerical values by using reduce:\u001b[0m\u001b[1;33m\u001b[0m\u001b[1;33m\u001b[0m\u001b[1;33m\u001b[0m\u001b[0m\n\u001b[0;32m      2\u001b[0m \u001b[0mf\u001b[0m \u001b[1;33m=\u001b[0m \u001b[1;32mlambda\u001b[0m \u001b[0ma\u001b[0m\u001b[1;33m,\u001b[0m\u001b[0mb\u001b[0m\u001b[1;33m:\u001b[0m \u001b[0ma\u001b[0m \u001b[1;32mif\u001b[0m \u001b[1;33m(\u001b[0m\u001b[0ma\u001b[0m \u001b[1;33m>\u001b[0m \u001b[0mb\u001b[0m\u001b[1;33m)\u001b[0m \u001b[1;32melse\u001b[0m \u001b[0mb\u001b[0m\u001b[1;33m\u001b[0m\u001b[1;33m\u001b[0m\u001b[0m\n\u001b[1;32m----> 3\u001b[1;33m \u001b[0mreduce\u001b[0m\u001b[1;33m(\u001b[0m\u001b[0mf\u001b[0m\u001b[1;33m,\u001b[0m \u001b[1;33m[\u001b[0m\u001b[1;36m47\u001b[0m\u001b[1;33m,\u001b[0m\u001b[1;36m11\u001b[0m\u001b[1;33m,\u001b[0m\u001b[1;36m42\u001b[0m\u001b[1;33m,\u001b[0m\u001b[1;36m102\u001b[0m\u001b[1;33m,\u001b[0m\u001b[1;36m13\u001b[0m\u001b[1;33m]\u001b[0m\u001b[1;33m)\u001b[0m\u001b[1;33m\u001b[0m\u001b[1;33m\u001b[0m\u001b[0m\n\u001b[0m\u001b[0;32m      4\u001b[0m \u001b[0mprint\u001b[0m\u001b[1;33m(\u001b[0m\u001b[0mf\u001b[0m\u001b[1;33m)\u001b[0m\u001b[1;33m\u001b[0m\u001b[1;33m\u001b[0m\u001b[0m\n",
            "\u001b[1;31mNameError\u001b[0m: name 'reduce' is not defined"
          ]
        }
      ]
    },
    {
      "cell_type": "code",
      "metadata": {
        "id": "c35upa8NZhH3",
        "colab_type": "code",
        "colab": {}
      },
      "source": [
        ""
      ],
      "execution_count": 0,
      "outputs": []
    }
  ]
}